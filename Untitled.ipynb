{
 "cells": [
  {
   "cell_type": "code",
   "execution_count": 11,
   "id": "cb2b00ec",
   "metadata": {},
   "outputs": [],
   "source": [
    "\n",
    "import numpy as np\n",
    "import cv2\n",
    "import time\n",
    "import datetime\n",
    "from collections import deque"
   ]
  },
  {
   "cell_type": "markdown",
   "id": "80a602d2",
   "metadata": {},
   "source": [
    "Reading from phone ip camera\n"
   ]
  },
  {
   "cell_type": "code",
   "execution_count": 12,
   "id": "83dff2f2",
   "metadata": {},
   "outputs": [],
   "source": [
    "cv2.namedWindow('frame', cv2.WINDOW_NORMAL)\n",
    " \n",
    "# Note the starting time\n",
    "start_time = time.time()\n",
    " \n",
    "# Initialize these variables for calculating FPS\n",
    "fps = 0 \n",
    "frame_counter = 0\n",
    " \n",
    "# Read the video steram from the camera\n",
    "cap = cv2.VideoCapture('https://192.168.43.1:8080/video')\n",
    " \n",
    "while(True):\n",
    "    \n",
    "    ret, frame = cap.read()\n",
    "    if not ret:\n",
    "        break \n",
    "    \n",
    "    # Calculate the Average FPS\n",
    "    frame_counter += 1\n",
    "    fps = (frame_counter / (time.time() - start_time))\n",
    "    \n",
    "    # Display the FPS\n",
    "    cv2.putText(frame, 'FPS: {:.2f}'.format(fps), (20, 20), cv2.FONT_HERSHEY_SIMPLEX, 0.6, (0, 0, 255),1)\n",
    "    \n",
    "    # Show the Frame\n",
    "    cv2.imshow('frame',frame)\n",
    "    \n",
    "    # Exit if q is pressed.\n",
    "    if cv2.waitKey(1) == ord('q'):\n",
    "        break\n",
    " \n",
    "# Release Capture and destroy windows\n",
    "cap.release()\n",
    "cv2.destroyAllWindows()"
   ]
  },
  {
   "cell_type": "markdown",
   "id": "751d9db1",
   "metadata": {},
   "source": [
    "TWILIO API to send the msg\n"
   ]
  },
  {
   "cell_type": "code",
   "execution_count": 23,
   "id": "d781d4a9",
   "metadata": {
    "scrolled": true
   },
   "outputs": [
    {
     "ename": "TwilioRestException",
     "evalue": "HTTP 400 error: Unable to create record: Permission to send an SMS has not been enabled for the region indicated by the 'To' number: 7718019904.",
     "output_type": "error",
     "traceback": [
      "\u001b[1;31m---------------------------------------------------------------------------\u001b[0m",
      "\u001b[1;31mTwilioRestException\u001b[0m                       Traceback (most recent call last)",
      "Input \u001b[1;32mIn [23]\u001b[0m, in \u001b[0;36m<cell line: 18>\u001b[1;34m()\u001b[0m\n\u001b[0;32m     16\u001b[0m \u001b[38;5;66;03m# Set client and send the message\u001b[39;00m\n\u001b[0;32m     17\u001b[0m client \u001b[38;5;241m=\u001b[39m Client(account_sid, auth_token)\n\u001b[1;32m---> 18\u001b[0m message \u001b[38;5;241m=\u001b[39m \u001b[43mclient\u001b[49m\u001b[38;5;241;43m.\u001b[39;49m\u001b[43mmessages\u001b[49m\u001b[38;5;241;43m.\u001b[39;49m\u001b[43mcreate\u001b[49m\u001b[43m(\u001b[49m\u001b[43m \u001b[49m\u001b[43mto\u001b[49m\u001b[43m \u001b[49m\u001b[38;5;241;43m=\u001b[39;49m\u001b[43minfo_dict\u001b[49m\u001b[43m[\u001b[49m\u001b[38;5;124;43m'\u001b[39;49m\u001b[38;5;124;43myour_num\u001b[39;49m\u001b[38;5;124;43m'\u001b[39;49m\u001b[43m]\u001b[49m\u001b[43m,\u001b[49m\u001b[43m \u001b[49m\u001b[43mfrom_\u001b[49m\u001b[43m \u001b[49m\u001b[38;5;241;43m=\u001b[39;49m\u001b[43m \u001b[49m\u001b[43minfo_dict\u001b[49m\u001b[43m[\u001b[49m\u001b[38;5;124;43m'\u001b[39;49m\u001b[38;5;124;43mtrial_num\u001b[39;49m\u001b[38;5;124;43m'\u001b[39;49m\u001b[43m]\u001b[49m\u001b[43m,\u001b[49m\u001b[43m \u001b[49m\u001b[43mbody\u001b[49m\u001b[38;5;241;43m=\u001b[39;49m\u001b[43m \u001b[49m\u001b[38;5;124;43m\"\u001b[39;49m\u001b[38;5;124;43mWhat\u001b[39;49m\u001b[38;5;124;43m'\u001b[39;49m\u001b[38;5;124;43ms Up Man\u001b[39;49m\u001b[38;5;124;43m\"\u001b[39;49m\u001b[43m)\u001b[49m\n",
      "File \u001b[1;32m~\\anaconda3\\lib\\site-packages\\twilio\\rest\\api\\v2010\\account\\message\\__init__.py:95\u001b[0m, in \u001b[0;36mMessageList.create\u001b[1;34m(self, to, status_callback, application_sid, max_price, provide_feedback, attempt, validity_period, force_delivery, content_retention, address_retention, smart_encoded, persistent_action, schedule_type, send_at, send_as_mms, from_, messaging_service_sid, body, media_url)\u001b[0m\n\u001b[0;32m     47\u001b[0m \u001b[38;5;124;03m\"\"\"\u001b[39;00m\n\u001b[0;32m     48\u001b[0m \u001b[38;5;124;03mCreate the MessageInstance\u001b[39;00m\n\u001b[0;32m     49\u001b[0m \n\u001b[1;32m   (...)\u001b[0m\n\u001b[0;32m     71\u001b[0m \u001b[38;5;124;03m:rtype: twilio.rest.api.v2010.account.message.MessageInstance\u001b[39;00m\n\u001b[0;32m     72\u001b[0m \u001b[38;5;124;03m\"\"\"\u001b[39;00m\n\u001b[0;32m     73\u001b[0m data \u001b[38;5;241m=\u001b[39m values\u001b[38;5;241m.\u001b[39mof({\n\u001b[0;32m     74\u001b[0m     \u001b[38;5;124m'\u001b[39m\u001b[38;5;124mTo\u001b[39m\u001b[38;5;124m'\u001b[39m: to,\n\u001b[0;32m     75\u001b[0m     \u001b[38;5;124m'\u001b[39m\u001b[38;5;124mFrom\u001b[39m\u001b[38;5;124m'\u001b[39m: from_,\n\u001b[1;32m   (...)\u001b[0m\n\u001b[0;32m     92\u001b[0m     \u001b[38;5;124m'\u001b[39m\u001b[38;5;124mSendAsMms\u001b[39m\u001b[38;5;124m'\u001b[39m: send_as_mms,\n\u001b[0;32m     93\u001b[0m })\n\u001b[1;32m---> 95\u001b[0m payload \u001b[38;5;241m=\u001b[39m \u001b[38;5;28;43mself\u001b[39;49m\u001b[38;5;241;43m.\u001b[39;49m\u001b[43m_version\u001b[49m\u001b[38;5;241;43m.\u001b[39;49m\u001b[43mcreate\u001b[49m\u001b[43m(\u001b[49m\u001b[43mmethod\u001b[49m\u001b[38;5;241;43m=\u001b[39;49m\u001b[38;5;124;43m'\u001b[39;49m\u001b[38;5;124;43mPOST\u001b[39;49m\u001b[38;5;124;43m'\u001b[39;49m\u001b[43m,\u001b[49m\u001b[43m \u001b[49m\u001b[43muri\u001b[49m\u001b[38;5;241;43m=\u001b[39;49m\u001b[38;5;28;43mself\u001b[39;49m\u001b[38;5;241;43m.\u001b[39;49m\u001b[43m_uri\u001b[49m\u001b[43m,\u001b[49m\u001b[43m \u001b[49m\u001b[43mdata\u001b[49m\u001b[38;5;241;43m=\u001b[39;49m\u001b[43mdata\u001b[49m\u001b[43m,\u001b[49m\u001b[43m \u001b[49m\u001b[43m)\u001b[49m\n\u001b[0;32m     97\u001b[0m \u001b[38;5;28;01mreturn\u001b[39;00m MessageInstance(\u001b[38;5;28mself\u001b[39m\u001b[38;5;241m.\u001b[39m_version, payload, account_sid\u001b[38;5;241m=\u001b[39m\u001b[38;5;28mself\u001b[39m\u001b[38;5;241m.\u001b[39m_solution[\u001b[38;5;124m'\u001b[39m\u001b[38;5;124maccount_sid\u001b[39m\u001b[38;5;124m'\u001b[39m], )\n",
      "File \u001b[1;32m~\\anaconda3\\lib\\site-packages\\twilio\\base\\version.py:205\u001b[0m, in \u001b[0;36mVersion.create\u001b[1;34m(self, method, uri, params, data, headers, auth, timeout, allow_redirects)\u001b[0m\n\u001b[0;32m    193\u001b[0m response \u001b[38;5;241m=\u001b[39m \u001b[38;5;28mself\u001b[39m\u001b[38;5;241m.\u001b[39mrequest(\n\u001b[0;32m    194\u001b[0m     method,\n\u001b[0;32m    195\u001b[0m     uri,\n\u001b[1;32m   (...)\u001b[0m\n\u001b[0;32m    201\u001b[0m     allow_redirects\u001b[38;5;241m=\u001b[39mallow_redirects,\n\u001b[0;32m    202\u001b[0m )\n\u001b[0;32m    204\u001b[0m \u001b[38;5;28;01mif\u001b[39;00m response\u001b[38;5;241m.\u001b[39mstatus_code \u001b[38;5;241m<\u001b[39m \u001b[38;5;241m200\u001b[39m \u001b[38;5;129;01mor\u001b[39;00m response\u001b[38;5;241m.\u001b[39mstatus_code \u001b[38;5;241m>\u001b[39m\u001b[38;5;241m=\u001b[39m \u001b[38;5;241m300\u001b[39m:\n\u001b[1;32m--> 205\u001b[0m     \u001b[38;5;28;01mraise\u001b[39;00m \u001b[38;5;28mself\u001b[39m\u001b[38;5;241m.\u001b[39mexception(method, uri, response, \u001b[38;5;124m'\u001b[39m\u001b[38;5;124mUnable to create record\u001b[39m\u001b[38;5;124m'\u001b[39m)\n\u001b[0;32m    207\u001b[0m \u001b[38;5;28;01mreturn\u001b[39;00m json\u001b[38;5;241m.\u001b[39mloads(response\u001b[38;5;241m.\u001b[39mtext)\n",
      "\u001b[1;31mTwilioRestException\u001b[0m: HTTP 400 error: Unable to create record: Permission to send an SMS has not been enabled for the region indicated by the 'To' number: 7718019904."
     ]
    }
   ],
   "source": [
    "from twilio.rest import Client\n",
    " \n",
    "# Read text from the credentials file and store in data variable\n",
    "with open('credentials.txt', 'r') as myfile:\n",
    "  data = myfile.read()\n",
    " \n",
    "# Convert data variable into dictionary\n",
    "info_dict = eval(data)\n",
    " \n",
    "# Your Account SID from twilio.com/console\n",
    "account_sid = info_dict['account_sid']\n",
    " \n",
    "# Your Auth Token from twilio.com/console\n",
    "auth_token  = info_dict['auth_token']\n",
    " \n",
    "# Set client and send the message\n",
    "client = Client(account_sid, auth_token)\n",
    "message = client.messages.create( to =info_dict['your_num'], from_ = info_dict['trial_num'], body= \"What's Up Man\")"
   ]
  },
  {
   "cell_type": "code",
   "execution_count": 14,
   "id": "79d7ea57",
   "metadata": {},
   "outputs": [
    {
     "name": "stdout",
     "output_type": "stream",
     "text": [
      "Collecting twilio\n",
      "  Downloading twilio-7.12.1-py2.py3-none-any.whl (1.4 MB)\n",
      "Requirement already satisfied: requests>=2.0.0 in c:\\users\\anmol prajapat\\anaconda3\\lib\\site-packages (from twilio) (2.27.1)\n",
      "Requirement already satisfied: PyJWT<3.0.0,>=2.0.0 in c:\\users\\anmol prajapat\\anaconda3\\lib\\site-packages (from twilio) (2.1.0)\n",
      "Requirement already satisfied: pytz in c:\\users\\anmol prajapat\\anaconda3\\lib\\site-packages (from twilio) (2021.3)\n",
      "Requirement already satisfied: urllib3<1.27,>=1.21.1 in c:\\users\\anmol prajapat\\anaconda3\\lib\\site-packages (from requests>=2.0.0->twilio) (1.26.9)\n",
      "Requirement already satisfied: idna<4,>=2.5 in c:\\users\\anmol prajapat\\anaconda3\\lib\\site-packages (from requests>=2.0.0->twilio) (3.3)\n",
      "Requirement already satisfied: charset-normalizer~=2.0.0 in c:\\users\\anmol prajapat\\anaconda3\\lib\\site-packages (from requests>=2.0.0->twilio) (2.0.4)\n",
      "Requirement already satisfied: certifi>=2017.4.17 in c:\\users\\anmol prajapat\\anaconda3\\lib\\site-packages (from requests>=2.0.0->twilio) (2021.10.8)\n",
      "Installing collected packages: twilio\n",
      "Successfully installed twilio-7.12.1\n",
      "Note: you may need to restart the kernel to use updated packages.\n"
     ]
    }
   ],
   "source": [
    "pip install twilio\n"
   ]
  },
  {
   "cell_type": "code",
   "execution_count": 21,
   "id": "820d5ff6",
   "metadata": {},
   "outputs": [
    {
     "name": "stdout",
     "output_type": "stream",
     "text": [
      "Requirement already satisfied: twilio in c:\\users\\anmol prajapat\\anaconda3\\lib\\site-packages (7.12.1)\n",
      "Requirement already satisfied: pytz in c:\\users\\anmol prajapat\\anaconda3\\lib\\site-packages (from twilio) (2021.3)\n",
      "Requirement already satisfied: PyJWT<3.0.0,>=2.0.0 in c:\\users\\anmol prajapat\\anaconda3\\lib\\site-packages (from twilio) (2.1.0)\n",
      "Requirement already satisfied: requests>=2.0.0 in c:\\users\\anmol prajapat\\anaconda3\\lib\\site-packages (from twilio) (2.27.1)\n",
      "Requirement already satisfied: charset-normalizer~=2.0.0 in c:\\users\\anmol prajapat\\anaconda3\\lib\\site-packages (from requests>=2.0.0->twilio) (2.0.4)\n",
      "Requirement already satisfied: urllib3<1.27,>=1.21.1 in c:\\users\\anmol prajapat\\anaconda3\\lib\\site-packages (from requests>=2.0.0->twilio) (1.26.9)\n",
      "Requirement already satisfied: idna<4,>=2.5 in c:\\users\\anmol prajapat\\anaconda3\\lib\\site-packages (from requests>=2.0.0->twilio) (3.3)\n",
      "Requirement already satisfied: certifi>=2017.4.17 in c:\\users\\anmol prajapat\\anaconda3\\lib\\site-packages (from requests>=2.0.0->twilio) (2021.10.8)\n",
      "Note: you may need to restart the kernel to use updated packages.\n"
     ]
    }
   ],
   "source": [
    "pip install twilio"
   ]
  },
  {
   "cell_type": "code",
   "execution_count": null,
   "id": "4bbd24f0",
   "metadata": {},
   "outputs": [],
   "source": []
  }
 ],
 "metadata": {
  "kernelspec": {
   "display_name": "Python 3 (ipykernel)",
   "language": "python",
   "name": "python3"
  },
  "language_info": {
   "codemirror_mode": {
    "name": "ipython",
    "version": 3
   },
   "file_extension": ".py",
   "mimetype": "text/x-python",
   "name": "python",
   "nbconvert_exporter": "python",
   "pygments_lexer": "ipython3",
   "version": "3.9.12"
  }
 },
 "nbformat": 4,
 "nbformat_minor": 5
}
